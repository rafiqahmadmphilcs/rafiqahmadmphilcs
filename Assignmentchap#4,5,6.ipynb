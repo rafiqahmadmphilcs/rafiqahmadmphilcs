{
  "nbformat": 4,
  "nbformat_minor": 0,
  "metadata": {
    "colab": {
      "provenance": [],
      "authorship_tag": "ABX9TyN2YGFcNa+4OO+J4YaUHpG3",
      "include_colab_link": true
    },
    "kernelspec": {
      "name": "python3",
      "display_name": "Python 3"
    },
    "language_info": {
      "name": "python"
    }
  },
  "cells": [
    {
      "cell_type": "markdown",
      "metadata": {
        "id": "view-in-github",
        "colab_type": "text"
      },
      "source": [
        "<a href=\"https://colab.research.google.com/github/rafiqahmadmphilcs/rafiqahmadmphilcs/blob/main/Assignmentchap%234%2C5%2C6.ipynb\" target=\"_parent\"><img src=\"https://colab.research.google.com/assets/colab-badge.svg\" alt=\"Open In Colab\"/></a>"
      ]
    },
    {
      "cell_type": "markdown",
      "source": [
        "**Example 4.11**"
      ],
      "metadata": {
        "id": "DeBo1mj8c6Nl"
      }
    },
    {
      "cell_type": "code",
      "execution_count": null,
      "metadata": {
        "colab": {
          "base_uri": "https://localhost:8080/"
        },
        "id": "BN61l11_FjoK",
        "outputId": "d6fa69b0-1a17-45cb-eda0-fe50eae7b5ba"
      },
      "outputs": [
        {
          "output_type": "stream",
          "name": "stdout",
          "text": [
            "my favourite pizza is peproni\n",
            "my favourite pizza is margertis\n",
            "my favourite pizza is hawain\n",
            "my favourite pizza is peproni\n",
            "my favourite pizza is margertis\n",
            "my favourite pizza is hawain\n",
            "my favourite pizza is peproni\n",
            "my favourite pizza is margertis\n",
            "my favourite pizza is hawain\n",
            "['peproni', 'margeritis', 'hawain', 'zinger', 'maroni']\n"
          ]
        }
      ],
      "source": [
        "\n",
        "friend_pizzas=['peproni','margeritis','hawain']\n",
        "for pizza in friend_pizzas:\n",
        " print(\"my favourite pizza is \"+'peproni')\n",
        " print(\"my favourite pizza is \"+'margertis')\n",
        " print(\"my favourite pizza is \"+'hawain')\n",
        "friend_pizzas.append('zinger')\n",
        "friend_pizzas.append('maroni')\n",
        "print(friend_pizzas)"
      ]
    },
    {
      "cell_type": "markdown",
      "source": [
        "**Example** **4.13**"
      ],
      "metadata": {
        "id": "qu1tfXDvXP9B"
      }
    },
    {
      "cell_type": "code",
      "source": [
        "foods=('chicken', 'mutton', 'baryami', 'Beaf')\n",
        "for food in foods:\n",
        "  print(foods)\n",
        "foods1=('berger','whitehandi','chickenkarai')\n",
        "print(\"\\n revised menu:\")\n",
        "for food1 in foods1:\n",
        "   print(foods1)"
      ],
      "metadata": {
        "colab": {
          "base_uri": "https://localhost:8080/"
        },
        "id": "ht7kQdwTXaAn",
        "outputId": "188c4d58-7ecd-4538-8642-c8cd88ca6e83"
      },
      "execution_count": 46,
      "outputs": [
        {
          "output_type": "stream",
          "name": "stdout",
          "text": [
            "('chicken', 'mutton', 'baryami', 'Beaf')\n",
            "('chicken', 'mutton', 'baryami', 'Beaf')\n",
            "('chicken', 'mutton', 'baryami', 'Beaf')\n",
            "('chicken', 'mutton', 'baryami', 'Beaf')\n",
            "\n",
            " revised menu:\n",
            "('berger', 'whitehandi', 'chickenkarai')\n",
            "('berger', 'whitehandi', 'chickenkarai')\n",
            "('berger', 'whitehandi', 'chickenkarai')\n"
          ]
        }
      ]
    },
    {
      "cell_type": "markdown",
      "source": [
        "**Example** **5.2**"
      ],
      "metadata": {
        "id": "Kc-SKtT1f628"
      }
    },
    {
      "cell_type": "code",
      "source": [
        "numbers=['5','10','15','20','45','90']\n",
        "for number in numbers:\n",
        "  if number=='15':\n",
        "    print(number)\n",
        "print(number!=15)"
      ],
      "metadata": {
        "colab": {
          "base_uri": "https://localhost:8080/"
        },
        "id": "ueTRKHDPgEN9",
        "outputId": "463bd177-d1bf-492f-9433-9bc39189df7e"
      },
      "execution_count": 56,
      "outputs": [
        {
          "output_type": "stream",
          "name": "stdout",
          "text": [
            "15\n",
            "True\n"
          ]
        }
      ]
    },
    {
      "cell_type": "code",
      "source": [
        "students=['rafiq','kamran','nadeem','junaid','sajid']\n",
        "for student in students:\n",
        "  if student=='kamran':\n",
        "      print(student.upper())\n",
        "      print(student.title())\n",
        "      print(student.lower())"
      ],
      "metadata": {
        "colab": {
          "base_uri": "https://localhost:8080/"
        },
        "id": "EA0P1wv5h6co",
        "outputId": "57ec5bde-d828-4753-dcfc-12b63327252a"
      },
      "execution_count": 59,
      "outputs": [
        {
          "output_type": "stream",
          "name": "stdout",
          "text": [
            "KAMRAN\n",
            "Kamran\n",
            "kamran\n"
          ]
        }
      ]
    },
    {
      "cell_type": "code",
      "source": [
        "rafiq_ages=['15','25','35','40']\n",
        "for age in rafiq_ages:\n",
        "      rafiq_age='35'\n",
        "if rafiq_age!='25':\n",
        "   print('age is 35')\n",
        "\n"
      ],
      "metadata": {
        "colab": {
          "base_uri": "https://localhost:8080/"
        },
        "id": "hAtFEwIZjKQ4",
        "outputId": "2a587e9b-9b39-42fe-9be0-b71d202141bc"
      },
      "execution_count": 60,
      "outputs": [
        {
          "output_type": "stream",
          "name": "stdout",
          "text": [
            "age is 35\n"
          ]
        }
      ]
    },
    {
      "cell_type": "code",
      "source": [
        "banned_friuts=['apple','mangoes','guava']\n",
        "fruit='watermalon'\n",
        "if fruit!= 'apple':\n",
        "         print(fruit.title())\n",
        "         print(fruit.title() +\"not exist in list\")\n"
      ],
      "metadata": {
        "colab": {
          "base_uri": "https://localhost:8080/"
        },
        "id": "FzCWj-vKkfl4",
        "outputId": "a1afde2f-5f2f-406e-cc80-c34094cd1771"
      },
      "execution_count": 71,
      "outputs": [
        {
          "output_type": "stream",
          "name": "stdout",
          "text": [
            "Watermalon\n",
            "Watermalonnot exist in list\n"
          ]
        }
      ]
    },
    {
      "cell_type": "markdown",
      "source": [
        "**Example 6.3**"
      ],
      "metadata": {
        "id": "s4RtAvHknG-E"
      }
    },
    {
      "cell_type": "code",
      "source": [
        "rafiq_glossary={'page1':'name of vegetables','page15':'name of fruits'}\n",
        "print(rafiq_glossary['page1'])\n",
        "print(rafiq_glossary['page15'])"
      ],
      "metadata": {
        "colab": {
          "base_uri": "https://localhost:8080/"
        },
        "id": "dUpUcQNYnMjk",
        "outputId": "d068af83-ae1a-4e71-d4ea-d8a772a656c6"
      },
      "execution_count": 75,
      "outputs": [
        {
          "output_type": "stream",
          "name": "stdout",
          "text": [
            "name of vegetables\n",
            "name of fruits\n"
          ]
        }
      ]
    },
    {
      "cell_type": "code",
      "source": [
        "rafiq_items={'fruit':'apple','vegetable':'carrot'}\n",
        "print(rafiq_items['fruit'])\n",
        "print(\"\\ncarrot\")"
      ],
      "metadata": {
        "colab": {
          "base_uri": "https://localhost:8080/"
        },
        "id": "QsNYERhyoLVW",
        "outputId": "176be32a-f3b4-4e85-9c17-6fb6fc313bdd"
      },
      "execution_count": 79,
      "outputs": [
        {
          "output_type": "stream",
          "name": "stdout",
          "text": [
            "apple\n",
            "\n",
            "carrot\n"
          ]
        }
      ]
    },
    {
      "cell_type": "markdown",
      "source": [
        "**Example 6.11**"
      ],
      "metadata": {
        "id": "ZsWiRQmHpDb6"
      }
    },
    {
      "cell_type": "code",
      "source": [
        "rafiq_cities={}\n",
        "rafiq_cities['pakistan']='lahore','multan','bahawalpur'\n",
        "print(rafiq_cities)"
      ],
      "metadata": {
        "colab": {
          "base_uri": "https://localhost:8080/"
        },
        "id": "0WWLx6X5pIg0",
        "outputId": "6a7e140f-c15b-42b9-a279-f9c7e4501431"
      },
      "execution_count": 88,
      "outputs": [
        {
          "output_type": "stream",
          "name": "stdout",
          "text": [
            "{'pakistan': ('lahore', 'multan', 'bahawalpur')}\n"
          ]
        }
      ]
    },
    {
      "cell_type": "code",
      "source": [
        "rafiq_cities={'lahore population':'20 lac','multan population':'10 lac','bahawalpur population':'8 lac'}\n",
        "print(rafiq_cities['lahore population'])\n",
        "print(rafiq_cities['multan population'])\n",
        "print(rafiq_cities['bahawalpur population'])"
      ],
      "metadata": {
        "colab": {
          "base_uri": "https://localhost:8080/"
        },
        "id": "bHHX7esfrsmc",
        "outputId": "7c39359a-4381-4a83-ef14-c2ef04dab0d4"
      },
      "execution_count": 91,
      "outputs": [
        {
          "output_type": "stream",
          "name": "stdout",
          "text": [
            "20 lac\n",
            "10 lac\n",
            "8 lac\n"
          ]
        }
      ]
    },
    {
      "cell_type": "markdown",
      "source": [
        "**Example 6.12**"
      ],
      "metadata": {
        "id": "d46Iexw-s-AK"
      }
    },
    {
      "cell_type": "code",
      "source": [
        "player={'name1':'asif','name2':'junaid','name3':'babar'}\n",
        "print(\"The good player is \" +player['name1'])\n",
        "print(\"The best player is \"+player['name2'])\n",
        "print(\"My favourite palyer is \"+player['name3'])"
      ],
      "metadata": {
        "colab": {
          "base_uri": "https://localhost:8080/"
        },
        "id": "u4sbhdSFtFiL",
        "outputId": "a141530b-2298-4e1e-a15d-a2920e5351bd"
      },
      "execution_count": 99,
      "outputs": [
        {
          "output_type": "stream",
          "name": "stdout",
          "text": [
            "The good player is asif\n",
            "The best player is junaid\n",
            "My favourite palyer is babar\n"
          ]
        }
      ]
    }
  ]
}