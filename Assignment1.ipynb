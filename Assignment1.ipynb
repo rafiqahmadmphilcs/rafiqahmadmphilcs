{
  "nbformat": 4,
  "nbformat_minor": 0,
  "metadata": {
    "colab": {
      "provenance": [],
      "authorship_tag": "ABX9TyN31umsMqurVqvb+/HiRx7f",
      "include_colab_link": true
    },
    "kernelspec": {
      "name": "python3",
      "display_name": "Python 3"
    },
    "language_info": {
      "name": "python"
    }
  },
  "cells": [
    {
      "cell_type": "markdown",
      "metadata": {
        "id": "view-in-github",
        "colab_type": "text"
      },
      "source": [
        "<a href=\"https://colab.research.google.com/github/rafiqahmadmphilcs/rafiqahmadmphilcs/blob/main/Assignment1.ipynb\" target=\"_parent\"><img src=\"https://colab.research.google.com/assets/colab-badge.svg\" alt=\"Open In Colab\"/></a>"
      ]
    },
    {
      "cell_type": "code",
      "execution_count": null,
      "metadata": {
        "id": "Ar21DZpejHlo"
      },
      "outputs": [],
      "source": []
    },
    {
      "cell_type": "markdown",
      "source": [
        "Assignment from chapter 03 \n",
        "# Advance operating **System**"
      ],
      "metadata": {
        "id": "Bg6JJqtljRTN"
      }
    },
    {
      "cell_type": "code",
      "source": [
        "message_Rafiq=\"welcome to python programming\"\n",
        "print(message_Rafiq)\n",
        "message_value_rafiq=\"welcome to NCBAE multan sub campus\"\n",
        "print(message_value_rafiq)"
      ],
      "metadata": {
        "colab": {
          "base_uri": "https://localhost:8080/"
        },
        "id": "cVN6ayqxjgK4",
        "outputId": "7ecbbd64-cca4-42ba-e04f-425388698e60"
      },
      "execution_count": 3,
      "outputs": [
        {
          "output_type": "stream",
          "name": "stdout",
          "text": [
            "welcome to python programming\n",
            "welcome to NCBAE multan sub campus\n"
          ]
        }
      ]
    },
    {
      "cell_type": "markdown",
      "source": [],
      "metadata": {
        "id": "fijCRkGcjgpT"
      }
    }
  ]
}