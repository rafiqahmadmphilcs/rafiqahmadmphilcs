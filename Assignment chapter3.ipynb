{
  "nbformat": 4,
  "nbformat_minor": 0,
  "metadata": {
    "colab": {
      "provenance": [],
      "include_colab_link": true
    },
    "kernelspec": {
      "name": "python3",
      "display_name": "Python 3"
    },
    "language_info": {
      "name": "python"
    }
  },
  "cells": [
    {
      "cell_type": "markdown",
      "metadata": {
        "id": "view-in-github",
        "colab_type": "text"
      },
      "source": [
        "<a href=\"https://colab.research.google.com/github/rafiqahmadmphilcs/rafiqahmadmphilcs/blob/main/Assignment%20chapter3.ipynb\" target=\"_parent\"><img src=\"https://colab.research.google.com/assets/colab-badge.svg\" alt=\"Open In Colab\"/></a>"
      ]
    },
    {
      "cell_type": "markdown",
      "source": [
        "# ** Assignment from CHAPTER 3**\n",
        "**Example 3.4**\n",
        "**Guest List:**\n",
        "If you could invite anyone, living or deceased, to dinner, who\n",
        "would you invite? Make a list that includes at least three people you’d like to\n",
        "invite to dinner. Then use your list to print a message to each person, inviting\n",
        "them to dinner."
      ],
      "metadata": {
        "id": "0pnNVmE3_qFO"
      }
    },
    {
      "cell_type": "code",
      "source": [
        "rafiq_guests = [\"sajid\", \"amjad\", \"nasir\"];\n",
        "print(\"Hi \"+rafiq_guests[0]+\", \"+rafiq_guests[1]+\", \"+rafiq_guests[2]+\", You all are invited for Dinner at almaida on coming Sunday.\")"
      ],
      "metadata": {
        "colab": {
          "base_uri": "https://localhost:8080/"
        },
        "id": "RUZMzA7C_zH4",
        "outputId": "28343b34-d6d3-4fdd-f06a-503e9929c647"
      },
      "execution_count": 1,
      "outputs": [
        {
          "output_type": "stream",
          "name": "stdout",
          "text": [
            "Hi sajid, amjad, nasir, You all are invited for Dinner at almaida on coming Sunday.\n"
          ]
        }
      ]
    },
    {
      "cell_type": "markdown",
      "source": [
        "**Example 3.5 Changing Guest List:**\n",
        "You just heard that one of your guests can’t make the\n",
        "dinner, so you need to send out a new set of invitations. You’ll have to think of someone else to invite.\n",
        "\n",
        "\n",
        "*   Start with your program from Exercise 3-4. Add a print statement at the\n",
        "end of your program stating the name of the guest who can’t make it.\n",
        "*   Modify your list, replacing the name of the guest who can’t make it with\n",
        "the name of the new person you are inviting.\n",
        "*   Print a second set of invitation messages, one for each person who is still\n",
        "in your list."
      ],
      "metadata": {
        "id": "Eln_d4GJm2Ha"
      }
    },
    {
      "cell_type": "code",
      "source": [
        "rafiq_guests = [\"sajid\", \"amjad\", \"nasir\"];\n",
        "print(rafiq_guests[1]+\" Will not be able to join us for Dinner.\")\n",
        "\n",
        "rafiq_guests[1] = 'amjad';\n",
        "print(\"Hi \"+rafiq_guests[0]+\", You are invited for Dinner at almaida on coming Sunday.\")\n",
        "print(\"Hi \"+rafiq_guests[1]+\", You are invited for Dinner at almaida on coming Sunday.\")\n",
        "print(\"Hi \"+rafiq_guests[2]+\", You are invited for Dinner at almaida on coming Sunday.\")"
      ],
      "metadata": {
        "colab": {
          "base_uri": "https://localhost:8080/"
        },
        "id": "AfU-DvZHm3nq",
        "outputId": "8886ed90-c02a-4f0a-ea1e-6ffa711b9e12"
      },
      "execution_count": 2,
      "outputs": [
        {
          "output_type": "stream",
          "name": "stdout",
          "text": [
            "amjad Will not be able to join us for Dinner.\n",
            "Hi sajid, You are invited for Dinner at almaida on coming Sunday.\n",
            "Hi amjad, You are invited for Dinner at almaida on coming Sunday.\n",
            "Hi nasir, You are invited for Dinner at almaida on coming Sunday.\n"
          ]
        }
      ]
    },
    {
      "cell_type": "markdown",
      "source": [
        "**Example 3.6 More Guests:**: You just found a bigger dinner table, so now more space is available. Think of three more guests to invite to dinner.\n",
        "\n",
        "\n",
        "*   Start with your program from Exercise 3-4 or Exercise 3-5. Add a print\n",
        "statement to the end of your program informing people that you found a\n",
        "bigger dinner table.\n",
        "*   Use insert() to add one new guest to the beginning of your list\n",
        "*   Use insert() to add one new guest to the middle of your list.\n",
        "*   Use append() to add one new guest to the end of your list.\n",
        "*   Print a new set of invitation messages, one for each person in your list.a"
      ],
      "metadata": {
        "id": "BOX0lFM2neqS"
      }
    },
    {
      "cell_type": "code",
      "source": [
        "rafiq_guests = [\"nadeem\", \"tahir\", \"munawar\"];\n",
        "rafiq_guests.insert(0, \"ayub\");\n",
        "rafiq_guests.insert(2, \"muazam\");\n",
        "rafiq_guests.append(\"naseer\");\n",
        "print(\"Hello everyone, I found a bigger table for dinner.\\n\"+rafiq_guests[0]+\", \"+rafiq_guests[1]+\", \"+rafiq_guests[2]+\", \"+rafiq_guests[3]+\", \"+rafiq_guests[4]+\", \"+rafiq_guests[5]+\", you all are invited at same time and place\")"
      ],
      "metadata": {
        "colab": {
          "base_uri": "https://localhost:8080/"
        },
        "id": "dqNT-n1DnfBi",
        "outputId": "f60f7536-d130-4931-cea4-f18de13bfe15"
      },
      "execution_count": 4,
      "outputs": [
        {
          "output_type": "stream",
          "name": "stdout",
          "text": [
            "Hello everyone, I found a bigger table for dinner.\n",
            "ayub, nadeem, muazam, tahir, munawar, naseer, you all are invited at same time and place\n"
          ]
        }
      ]
    },
    {
      "cell_type": "markdown",
      "source": [
        "**Example 3.7 Shrinking Guest Lis:**: You just found out that your new dinner table won’t\n",
        "arrive in time for the dinner, and you have space for only two guests.\n",
        "\n",
        "\n",
        "*   Start with your program from Exercise 3-6. Add a new line that prints a\n",
        "message saying that you can invite only two people for dinner.\n",
        "*   Use pop() to remove guests from your list one at a time until only two\n",
        "names remain in your list. Each time you pop a name from your list, print\n",
        "a message to that person letting them know you’re sorry you can’t invite\n",
        "them to dinner.\n",
        "*   Print a message to each of the two people still on your list, letting them\n",
        "know they’re still invited.\n",
        "*   Use del to remove the last two names from your list, so you have an empty\n",
        "list. Print your list to make sure you actually have an empty list at the end\n",
        "of your program"
      ],
      "metadata": {
        "id": "1TxyC61wnyob"
      }
    },
    {
      "cell_type": "code",
      "source": [
        "rafiq_guests = [\"akbar\", \"muneer\", \"asghar\"];\n",
        "rafiq_guests.insert(0, \"nadir\");\n",
        "rafiq_guests.insert(2, \"Arslan\");\n",
        "rafiq_guests.append(\"mudasir\");\n",
        "\n",
        "print(\"I am erally sorry to announce that my booking for almaida is changed, now I can invite only two people\")\n",
        "removed1 = rafiq_guests.pop(0)\n",
        "print(\"Hi \"+removed1+\", Sorry I can't invite you to dinner\")\n",
        "removed2 = rafiq_guests.pop(0)\n",
        "print(\"Hi \"+removed2+\", Sorry I can't invite you to dinner\")\n",
        "removed3 = rafiq_guests.pop(0)\n",
        "print(\"Hi \"+removed3+\", Sorry I can't invite you to dinner\")\n",
        "removed4 = rafiq_guests.pop(0)\n",
        "print(\"Hi \"+removed4+\", Sorry I can't invite you to dinner\\n\")\n",
        "print(\"Hi \"+rafiq_guests[0]+\", You are still invited for the Dinner at almaida\")\n",
        "print(\"Hi \"+rafiq_guests[1]+\", You are still invited for the Dinner at almaida\")\n",
        "\n",
        "del rafiq_guests[0]\n",
        "del rafiq_guests[0]\n",
        "print(rafiq_guests)"
      ],
      "metadata": {
        "colab": {
          "base_uri": "https://localhost:8080/"
        },
        "id": "Y0Skc1S8nywK",
        "outputId": "75c71fc7-392a-4527-966a-36910a00fb00"
      },
      "execution_count": 7,
      "outputs": [
        {
          "output_type": "stream",
          "name": "stdout",
          "text": [
            "I am erally sorry to announce that my booking for almaida is changed, now I can invite only two people\n",
            "Hi nadir, Sorry I can't invite you to dinner\n",
            "Hi akbar, Sorry I can't invite you to dinner\n",
            "Hi Arslan, Sorry I can't invite you to dinner\n",
            "Hi muneer, Sorry I can't invite you to dinner\n",
            "\n",
            "Hi asghar, You are still invited for the Dinner at almaida\n",
            "Hi mudasir, You are still invited for the Dinner at almaida\n",
            "[]\n"
          ]
        }
      ]
    }
  ]
}