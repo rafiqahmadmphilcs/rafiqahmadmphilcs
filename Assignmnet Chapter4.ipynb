{
  "nbformat": 4,
  "nbformat_minor": 0,
  "metadata": {
    "colab": {
      "provenance": [],
      "include_colab_link": true
    },
    "kernelspec": {
      "name": "python3",
      "display_name": "Python 3"
    },
    "language_info": {
      "name": "python"
    }
  },
  "cells": [
    {
      "cell_type": "markdown",
      "metadata": {
        "id": "view-in-github",
        "colab_type": "text"
      },
      "source": [
        "<a href=\"https://colab.research.google.com/github/rafiqahmadmphilcs/rafiqahmadmphilcs/blob/main/Assignmnet%20Chapter4.ipynb\" target=\"_parent\"><img src=\"https://colab.research.google.com/assets/colab-badge.svg\" alt=\"Open In Colab\"/></a>"
      ]
    },
    {
      "cell_type": "markdown",
      "source": [
        "# ** Assignment from CHAPTER 4**\n",
        "\n",
        "** **Example 4-1. Pizzas**:** Think of at least three kinds of your favorite pizza. Store these\n",
        "pizza names in a list, and then use a for loop to print the name of each pizza.\n",
        "Modify your for loop to print a sentence using the name of the pizza.\n",
        "\n",
        "*   instead of printing just the name of the pizza. For each pizza you should\n",
        "have one line of output containing a simple statement like I like pepperoni\n",
        "pizza.\n",
        "*   Add a line at the end of your program, outside the for loop, that states\n",
        "how much you like pizza. The output should consist of three or more lines\n",
        "about the kinds of pizza you like and then an additional sentence, such as\n",
        "I really love pizza!"
      ],
      "metadata": {
        "id": "Z-SqGOGu4VM0"
      }
    },
    {
      "cell_type": "code",
      "source": [
        "rafiq_pizza_list = ['pepperoni', 'Margherita', 'Hawaiian']\n",
        "for pizza in rafiq_pizza_list:\n",
        "  print(\"I Like \"+pizza+\" Pizza it's yummy.\")\n",
        "print(\"I like to eat pizza with ketchup, especially with friends.\")\n"
      ],
      "metadata": {
        "colab": {
          "base_uri": "https://localhost:8080/"
        },
        "id": "IiZX3EBu4sN0",
        "outputId": "3d805d1d-45a3-46d9-d62e-efb596122766"
      },
      "execution_count": 1,
      "outputs": [
        {
          "output_type": "stream",
          "name": "stdout",
          "text": [
            "I Like pepperoni Pizza it's yummy.\n",
            "I Like Margherita Pizza it's yummy.\n",
            "I Like Hawaiian Pizza it's yummy.\n",
            "I like to eat pizza with ketchup, especially with friends.\n"
          ]
        }
      ]
    },
    {
      "cell_type": "markdown",
      "source": [
        "** **Example 4-2. Animals**:** Think of at least three different animals that have a common characteristic. Store the names of these animals in a list, and then use a for loop to print out the name of each animal.\n",
        "\n",
        "*   Modify your program to print a statement about each animal, such as\n",
        "A dog would make a great pet.\n",
        "*   Add a line at the end of your program stating what these animals have in\n",
        "common. You could print a sentence such as Any of these animals would\n",
        "make a great pet!"
      ],
      "metadata": {
        "id": "KfN_nLxN63ie"
      }
    },
    {
      "cell_type": "code",
      "source": [
        "rafiq_pet_list = [\"monkey\", \"dog\", \"horse\"]\n",
        "\n",
        "for pet in rafiq_pet_list:\n",
        "  print(\"A \"+pet.title()+\" would make a great pet.\")\n",
        "print(\"\\nAny of these animals would make a great pet!\")"
      ],
      "metadata": {
        "colab": {
          "base_uri": "https://localhost:8080/"
        },
        "id": "sRCm-U2F7ATG",
        "outputId": "97558436-d802-4ecb-c5a8-b6647667ff39"
      },
      "execution_count": 3,
      "outputs": [
        {
          "output_type": "stream",
          "name": "stdout",
          "text": [
            "A Monkey would make a great pet.\n",
            "A Dog would make a great pet.\n",
            "A Horse would make a great pet.\n",
            "\n",
            "Any of these animals would make a great pet!\n"
          ]
        }
      ]
    }
  ]
}