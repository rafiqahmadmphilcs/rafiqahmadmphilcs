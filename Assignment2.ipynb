{
  "nbformat": 4,
  "nbformat_minor": 0,
  "metadata": {
    "colab": {
      "provenance": [],
      "authorship_tag": "ABX9TyPdFZfjIH6zR+tFXm8G9wXu",
      "include_colab_link": true
    },
    "kernelspec": {
      "name": "python3",
      "display_name": "Python 3"
    },
    "language_info": {
      "name": "python"
    }
  },
  "cells": [
    {
      "cell_type": "markdown",
      "metadata": {
        "id": "view-in-github",
        "colab_type": "text"
      },
      "source": [
        "<a href=\"https://colab.research.google.com/github/rafiqahmadmphilcs/rafiqahmadmphilcs/blob/main/Assignment2.ipynb\" target=\"_parent\"><img src=\"https://colab.research.google.com/assets/colab-badge.svg\" alt=\"Open In Colab\"/></a>"
      ]
    },
    {
      "cell_type": "code",
      "execution_count": null,
      "metadata": {
        "id": "Ar21DZpejHlo"
      },
      "outputs": [],
      "source": []
    },
    {
      "cell_type": "markdown",
      "source": [],
      "metadata": {
        "id": "8sh0XPx8pSSO"
      }
    },
    {
      "cell_type": "markdown",
      "source": [
        "example **2.4**"
      ],
      "metadata": {
        "id": "j4lFo-ccqhor"
      }
    },
    {
      "cell_type": "code",
      "source": [
        "name=\"rafiq ahmad\"\n",
        "print(name.upper())\n",
        "print(name.lower())"
      ],
      "metadata": {
        "colab": {
          "base_uri": "https://localhost:8080/"
        },
        "id": "DWVsBCROrFGN",
        "outputId": "47951b18-34da-4dd7-92e0-8ea07c797053"
      },
      "execution_count": 7,
      "outputs": [
        {
          "output_type": "stream",
          "name": "stdout",
          "text": [
            "RAFIQ AHMAD\n",
            "rafiq ahmad\n"
          ]
        }
      ]
    },
    {
      "cell_type": "code",
      "source": [],
      "metadata": {
        "id": "R3JdfG4dpTNE"
      },
      "execution_count": null,
      "outputs": []
    },
    {
      "cell_type": "markdown",
      "source": [
        "example **2.3**"
      ],
      "metadata": {
        "id": "M2kPhiX3oQ1a"
      }
    },
    {
      "cell_type": "code",
      "source": [
        "print_rafiq=\"Hello Mr.Rafiq Ahmad from NCBAE multn\"\n",
        "print(print_rafiq)"
      ],
      "metadata": {
        "colab": {
          "base_uri": "https://localhost:8080/"
        },
        "id": "opYLIpfJpXGH",
        "outputId": "387d97fc-1b88-4526-cd3d-542f55e47110"
      },
      "execution_count": 5,
      "outputs": [
        {
          "output_type": "stream",
          "name": "stdout",
          "text": [
            "Hello Mr.Rafiq Ahmad from NCBAE multn\n"
          ]
        }
      ]
    },
    {
      "cell_type": "markdown",
      "source": [
        "Assignment from chapter **02** \n",
        "example **2.1 and 2.2**"
      ],
      "metadata": {
        "id": "Bg6JJqtljRTN"
      }
    },
    {
      "cell_type": "code",
      "source": [
        "message_Rafiq=\"welcome to python programming\"\n",
        "print(message_Rafiq)\n",
        "message_value_rafiq=\"welcome to NCBAE multan sub campus\"\n",
        "print(message_value_rafiq)"
      ],
      "metadata": {
        "colab": {
          "base_uri": "https://localhost:8080/"
        },
        "id": "cVN6ayqxjgK4",
        "outputId": "7ecbbd64-cca4-42ba-e04f-425388698e60"
      },
      "execution_count": 3,
      "outputs": [
        {
          "output_type": "stream",
          "name": "stdout",
          "text": [
            "welcome to python programming\n",
            "welcome to NCBAE multan sub campus\n"
          ]
        }
      ]
    },
    {
      "cell_type": "markdown",
      "source": [],
      "metadata": {
        "id": "fijCRkGcjgpT"
      }
    }
  ]
}